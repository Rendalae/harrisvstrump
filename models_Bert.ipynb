{
  "cells": [
    {
      "cell_type": "code",
      "execution_count": 1,
      "metadata": {
        "id": "0y57YyrYZKOb"
      },
      "outputs": [
        {
          "name": "stderr",
          "output_type": "stream",
          "text": [
            "2024-08-28 11:39:54.918313: I tensorflow/core/platform/cpu_feature_guard.cc:193] This TensorFlow binary is optimized with oneAPI Deep Neural Network Library (oneDNN) to use the following CPU instructions in performance-critical operations:  AVX2 AVX_VNNI FMA\n",
            "To enable them in other operations, rebuild TensorFlow with the appropriate compiler flags.\n",
            "2024-08-28 11:39:55.356311: I tensorflow/core/util/util.cc:169] oneDNN custom operations are on. You may see slightly different numerical results due to floating-point round-off errors from different computation orders. To turn them off, set the environment variable `TF_ENABLE_ONEDNN_OPTS=0`.\n"
          ]
        }
      ],
      "source": [
        "import pandas as pd\n",
        "import numpy as np\n",
        "import matplotlib\n",
        "import matplotlib.pyplot as plt\n",
        "import seaborn as sns\n",
        "import string\n",
        "import tensorflow_datasets as tfds\n",
        "from tensorflow.keras.preprocessing.text import text_to_word_sequence\n",
        "from assnat.params import *\n",
        "from assnat.clean import complete_preproc\n",
        "import pandas as pd\n",
        "from sklearn.feature_extraction.text import TfidfVectorizer\n",
        "from sklearn.model_selection import train_test_split\n",
        "from sklearn.linear_model import LogisticRegression\n",
        "from sklearn.svm import SVC\n",
        "from sklearn.model_selection import train_test_split\n",
        "from sklearn.metrics import classification_report\n",
        "from sklearn.pipeline import Pipeline\n",
        "from sklearn.preprocessing import FunctionTransformer\n",
        "from sklearn.base import BaseEstimator, TransformerMixin\n",
        "\n",
        "from sklearn.preprocessing import LabelEncoder\n",
        "from sklearn.metrics import classification_report\n",
        "from tensorflow.keras.preprocessing.text import Tokenizer\n",
        "from tensorflow.keras.preprocessing.sequence import pad_sequences\n",
        "from tensorflow.keras.models import Sequential, load_model\n",
        "from tensorflow.keras.layers import Embedding, LSTM, Dense, SpatialDropout1D, Masking, Flatten, Dropout\n",
        "from tensorflow.keras.callbacks import EarlyStopping\n",
        "\n",
        "from gensim.models import Word2Vec\n",
        "\n",
        "from transformers import AutoTokenizer\n",
        "\n",
        "import time, os\n",
        "from collections.abc import Callable\n",
        "from tensorflow.keras.models import Sequential, load_model, save_model\n",
        "from assnat.utils import timestamp"
      ]
    },
    {
      "cell_type": "code",
      "execution_count": 28,
      "metadata": {
        "colab": {
          "base_uri": "https://localhost:8080/"
        },
        "id": "k80nGwWOZXsU",
        "outputId": "ac259e16-26c0-473e-9ff8-329ac4834282"
      },
      "outputs": [],
      "source": [
        "# from google.colab import drive\n",
        "# drive.mount('/content/drive')"
      ]
    },
    {
      "cell_type": "code",
      "execution_count": 29,
      "metadata": {
        "colab": {
          "base_uri": "https://localhost:8080/"
        },
        "id": "Dx_Bu2wrZKOk",
        "outputId": "8c4cc230-84e2-41c6-d0ce-404a3e9209aa"
      },
      "outputs": [],
      "source": [
        "# tokenizer = AutoTokenizer.from_pretrained(\"prajjwal1/bert-tiny\", padding_side = \"right\")\n",
        "# tokenizer(\"My tokenizers and model must match\")"
      ]
    },
    {
      "cell_type": "code",
      "execution_count": 30,
      "metadata": {
        "colab": {
          "base_uri": "https://localhost:8080/"
        },
        "id": "R9ooZm65ZKOn",
        "outputId": "f50e3bc2-59d5-4294-fa5b-f8ebdae032d6"
      },
      "outputs": [],
      "source": [
        "# # $CHALLENGIFY_BEGIN\n",
        "# tokens = tokenizer(\"My model and my tokenizer must match\")[\"input_ids\"]\n",
        "\n",
        "# for x in tokens:\n",
        "#     print(f\"{x} corresponds to {tokenizer.decode(x)}\")\n",
        "# # $CHALLENGIFY_END"
      ]
    },
    {
      "cell_type": "code",
      "execution_count": 30,
      "metadata": {
        "colab": {
          "base_uri": "https://localhost:8080/"
        },
        "id": "IoNOVd9qZKOq",
        "outputId": "756c5da9-3146-4d67-a4d4-398775386fd2"
      },
      "outputs": [
        {
          "name": "stdout",
          "output_type": "stream",
          "text": [
            "Columns dropped\n",
            "families simplified\n",
            "family dropped\n",
            "NaN dropped\n",
            "Names dropped\n",
            "Short sentences removed\n",
            "Preprocessing done!\n"
          ]
        },
        {
          "data": {
            "text/plain": [
              "((130200,), 130200)"
            ]
          },
          "execution_count": 30,
          "metadata": {},
          "output_type": "execute_result"
        }
      ],
      "source": [
        "# # Chargement et prétraitement des données\n",
        "# leg_ = '/content/drive/MyDrive/Le Wagon/Project AssNat/leg16_preproc.csv'\n",
        "min_words_=10\n",
        "\n",
        "df = pd.read_csv('data/leg16.csv')\n",
        "df_preproc = complete_preproc(df, na_col=[\"Texte\", \"famille\"], simplify_fam= True, drop_fam=['Variable'], drop_names=[\"Mme la présidente\", \"M. le président\"], min_words=min_words_, punct_opt=True)\n",
        "#df_preproc.to_csv('data/leg16_preproc.csv', index=False)\n",
        "\n",
        "X = df_preproc['Texte']  # Les textes à classifier\n",
        "y = df_preproc['famille']\n",
        "\n",
        "# Encodage des labels\n",
        "label_encoder = LabelEncoder()\n",
        "y_encoded = label_encoder.fit_transform(y)\n",
        "X.shape, len(y_encoded)"
      ]
    },
    {
      "cell_type": "code",
      "execution_count": 44,
      "metadata": {},
      "outputs": [
        {
          "data": {
            "text/plain": [
              "array(['Centre', 'Gauche', 'Droite', 'Variable', nan], dtype=object)"
            ]
          },
          "execution_count": 44,
          "metadata": {},
          "output_type": "execute_result"
        },
        {
          "ename": "",
          "evalue": "",
          "output_type": "error",
          "traceback": [
            "\u001b[1;31mThe Kernel crashed while executing code in the current cell or a previous cell. \n",
            "\u001b[1;31mPlease review the code in the cell(s) to identify a possible cause of the failure. \n",
            "\u001b[1;31mClick <a href='https://aka.ms/vscodeJupyterKernelCrash'>here</a> for more info. \n",
            "\u001b[1;31mView Jupyter <a href='command:jupyter.viewOutput'>log</a> for further details."
          ]
        }
      ],
      "source": [
        "df['famille'].unique()"
      ]
    },
    {
      "cell_type": "code",
      "execution_count": 40,
      "metadata": {},
      "outputs": [
        {
          "data": {
            "text/html": [
              "<div>\n",
              "<style scoped>\n",
              "    .dataframe tbody tr th:only-of-type {\n",
              "        vertical-align: middle;\n",
              "    }\n",
              "\n",
              "    .dataframe tbody tr th {\n",
              "        vertical-align: top;\n",
              "    }\n",
              "\n",
              "    .dataframe thead th {\n",
              "        text-align: right;\n",
              "    }\n",
              "</style>\n",
              "<table border=\"1\" class=\"dataframe\">\n",
              "  <thead>\n",
              "    <tr style=\"text-align: right;\">\n",
              "      <th></th>\n",
              "      <th>Unnamed: 0</th>\n",
              "      <th>Nom Orateur</th>\n",
              "      <th>ID Orateur</th>\n",
              "      <th>Texte</th>\n",
              "      <th>Thème Séance</th>\n",
              "      <th>ID Séance</th>\n",
              "      <th>Date Séance</th>\n",
              "      <th>ID Session</th>\n",
              "      <th>grammaire</th>\n",
              "      <th>famille</th>\n",
              "    </tr>\n",
              "  </thead>\n",
              "  <tbody>\n",
              "    <tr>\n",
              "      <th>3485</th>\n",
              "      <td>3485</td>\n",
              "      <td>Mme Sandrine Rousseau</td>\n",
              "      <td>795076</td>\n",
              "      <td>sur le fondement de l’article relatif à la bon...</td>\n",
              "      <td>Questions au Gouvernement</td>\n",
              "      <td>RUANR5L16S2024IDS28011</td>\n",
              "      <td>mercredi 24 janvier 2024</td>\n",
              "      <td>SCR5A2024O1</td>\n",
              "      <td>RAP_REGLEMENT_2_40</td>\n",
              "      <td>Gauche</td>\n",
              "    </tr>\n",
              "    <tr>\n",
              "      <th>3487</th>\n",
              "      <td>3487</td>\n",
              "      <td>Mme Sandrine Rousseau</td>\n",
              "      <td>795076</td>\n",
              "      <td>…pour désigner en médecine un processus par le...</td>\n",
              "      <td>Questions au Gouvernement</td>\n",
              "      <td>RUANR5L16S2024IDS28011</td>\n",
              "      <td>mercredi 24 janvier 2024</td>\n",
              "      <td>SCR5A2024O1</td>\n",
              "      <td>RAP_REGLEMENT_2_40</td>\n",
              "      <td>Gauche</td>\n",
              "    </tr>\n",
              "    <tr>\n",
              "      <th>172461</th>\n",
              "      <td>172461</td>\n",
              "      <td>M. Sylvain Maillard</td>\n",
              "      <td>717379</td>\n",
              "      <td>sur le fondement de l’article qui répond à m m...</td>\n",
              "      <td>Confidentialité des consultations des juristes...</td>\n",
              "      <td>RUANR5L16S2024IDS28260</td>\n",
              "      <td>mardi 30 avril 2024</td>\n",
              "      <td>SCR5A2024O1</td>\n",
              "      <td>RAP_REGLEMENT_2_40</td>\n",
              "      <td>Centre</td>\n",
              "    </tr>\n",
              "    <tr>\n",
              "      <th>190663</th>\n",
              "      <td>190663</td>\n",
              "      <td>Mme Delphine Batho</td>\n",
              "      <td>335999</td>\n",
              "      <td>il se fonde sur l’article 100 de notre règleme...</td>\n",
              "      <td>Souveraineté alimentaire et renouvellement des...</td>\n",
              "      <td>RUANR5L16S2024IDS28358</td>\n",
              "      <td>mercredi 15 mai 2024</td>\n",
              "      <td>SCR5A2024O1</td>\n",
              "      <td>RAP_REGLEMENT_2_40</td>\n",
              "      <td>Gauche</td>\n",
              "    </tr>\n",
              "    <tr>\n",
              "      <th>190665</th>\n",
              "      <td>190665</td>\n",
              "      <td>Mme Delphine Batho</td>\n",
              "      <td>335999</td>\n",
              "      <td>étant donné le contexte – des agents de l’admi...</td>\n",
              "      <td>Souveraineté alimentaire et renouvellement des...</td>\n",
              "      <td>RUANR5L16S2024IDS28358</td>\n",
              "      <td>mercredi 15 mai 2024</td>\n",
              "      <td>SCR5A2024O1</td>\n",
              "      <td>RAP_REGLEMENT_2_40</td>\n",
              "      <td>Gauche</td>\n",
              "    </tr>\n",
              "  </tbody>\n",
              "</table>\n",
              "</div>"
            ],
            "text/plain": [
              "        Unnamed: 0            Nom Orateur  ID Orateur  \\\n",
              "3485          3485  Mme Sandrine Rousseau      795076   \n",
              "3487          3487  Mme Sandrine Rousseau      795076   \n",
              "172461      172461    M. Sylvain Maillard      717379   \n",
              "190663      190663     Mme Delphine Batho      335999   \n",
              "190665      190665     Mme Delphine Batho      335999   \n",
              "\n",
              "                                                    Texte  \\\n",
              "3485    sur le fondement de l’article relatif à la bon...   \n",
              "3487    …pour désigner en médecine un processus par le...   \n",
              "172461  sur le fondement de l’article qui répond à m m...   \n",
              "190663  il se fonde sur l’article 100 de notre règleme...   \n",
              "190665  étant donné le contexte – des agents de l’admi...   \n",
              "\n",
              "                                             Thème Séance  \\\n",
              "3485                            Questions au Gouvernement   \n",
              "3487                            Questions au Gouvernement   \n",
              "172461  Confidentialité des consultations des juristes...   \n",
              "190663  Souveraineté alimentaire et renouvellement des...   \n",
              "190665  Souveraineté alimentaire et renouvellement des...   \n",
              "\n",
              "                     ID Séance               Date Séance   ID Session  \\\n",
              "3485    RUANR5L16S2024IDS28011  mercredi 24 janvier 2024  SCR5A2024O1   \n",
              "3487    RUANR5L16S2024IDS28011  mercredi 24 janvier 2024  SCR5A2024O1   \n",
              "172461  RUANR5L16S2024IDS28260       mardi 30 avril 2024  SCR5A2024O1   \n",
              "190663  RUANR5L16S2024IDS28358      mercredi 15 mai 2024  SCR5A2024O1   \n",
              "190665  RUANR5L16S2024IDS28358      mercredi 15 mai 2024  SCR5A2024O1   \n",
              "\n",
              "                 grammaire famille  \n",
              "3485    RAP_REGLEMENT_2_40  Gauche  \n",
              "3487    RAP_REGLEMENT_2_40  Gauche  \n",
              "172461  RAP_REGLEMENT_2_40  Centre  \n",
              "190663  RAP_REGLEMENT_2_40  Gauche  \n",
              "190665  RAP_REGLEMENT_2_40  Gauche  "
            ]
          },
          "execution_count": 40,
          "metadata": {},
          "output_type": "execute_result"
        }
      ],
      "source": [
        "df_preproc[df_preproc.grammaire == 'RAP_REGLEMENT_2_40'].head(5)"
      ]
    },
    {
      "cell_type": "code",
      "execution_count": 31,
      "metadata": {},
      "outputs": [
        {
          "data": {
            "text/plain": [
              "3"
            ]
          },
          "execution_count": 31,
          "metadata": {},
          "output_type": "execute_result"
        }
      ],
      "source": [
        "label_dim = len(label_encoder.classes_)\n",
        "label_dim"
      ]
    },
    {
      "cell_type": "code",
      "execution_count": 32,
      "metadata": {},
      "outputs": [
        {
          "data": {
            "text/plain": [
              "array(['Centre', 'Droite', 'Gauche'], dtype=object)"
            ]
          },
          "execution_count": 32,
          "metadata": {},
          "output_type": "execute_result"
        }
      ],
      "source": [
        "label_encoder.classes_"
      ]
    },
    {
      "cell_type": "code",
      "execution_count": 33,
      "metadata": {
        "colab": {
          "base_uri": "https://localhost:8080/",
          "height": 71
        },
        "id": "CkpEirxyZKOw",
        "outputId": "b8918596-6218-4ee4-a566-a9e442adf7db"
      },
      "outputs": [
        {
          "data": {
            "text/plain": [
              "(130200,)"
            ]
          },
          "execution_count": 33,
          "metadata": {},
          "output_type": "execute_result"
        }
      ],
      "source": [
        "X.shape"
      ]
    },
    {
      "cell_type": "code",
      "execution_count": 5,
      "metadata": {
        "colab": {
          "base_uri": "https://localhost:8080/"
        },
        "collapsed": true,
        "id": "vhaWHu05ZKO5",
        "outputId": "76e117b5-dc7c-4f7b-8d16-908d2fe1a5bf"
      },
      "outputs": [
        {
          "name": "stdout",
          "output_type": "stream",
          "text": [
            "5 corresponds to <s>\n",
            "1529 corresponds to voilà\n",
            "44 corresponds to ce\n",
            "31 corresponds to qui\n",
            "39 corresponds to vous\n",
            "3422 corresponds to importe\n",
            "12931 corresponds to couler\n",
            "16 corresponds to le\n",
            "4964 corresponds to béton\n",
            "24 corresponds to pour\n",
            "27 corresponds to que\n",
            "17 corresponds to l\n",
            "12 corresponds to ’\n",
            "2165 corresponds to installation\n",
            "1516 corresponds to puisse\n",
            "98 corresponds to être\n",
            "14845 corresponds to inauguré\n",
            "35 corresponds to e\n",
            "37 corresponds to par\n",
            "16 corresponds to le\n",
            "5166 corresponds to prince\n",
            "11543 corresponds to macro\n",
            "255 corresponds to n\n",
            "83 corresponds to !\n",
            "6 corresponds to </s>\n"
          ]
        }
      ],
      "source": [
        "# $CHALLENGIFY_BEGIN\n",
        "tokenizer = AutoTokenizer.from_pretrained(\"almanach/camembert-base\", padding_side = \"right\")\n",
        "\n",
        "tokens = tokenizer(X[100])[\"input_ids\"]\n",
        "\n",
        "for x in tokens:\n",
        "    print(f\"{x} corresponds to {tokenizer.decode(x)}\")\n",
        "# $CHALLENGIFY_END"
      ]
    },
    {
      "cell_type": "code",
      "execution_count": 6,
      "metadata": {
        "colab": {
          "base_uri": "https://localhost:8080/"
        },
        "id": "pttVe5bGZKO_",
        "outputId": "9d75228a-905f-4070-fc38-e87e6736103f"
      },
      "outputs": [
        {
          "name": "stderr",
          "output_type": "stream",
          "text": [
            "Some weights of the PyTorch model were not used when initializing the TF 2.0 model TFCamembertModel: ['lm_head.dense.bias', 'lm_head.decoder.weight', 'lm_head.bias', 'lm_head.dense.weight', 'lm_head.layer_norm.bias', 'lm_head.layer_norm.weight']\n",
            "- This IS expected if you are initializing TFCamembertModel from a PyTorch model trained on another task or with another architecture (e.g. initializing a TFBertForSequenceClassification model from a BertForPreTraining model).\n",
            "- This IS NOT expected if you are initializing TFCamembertModel from a PyTorch model that you expect to be exactly identical (e.g. initializing a TFBertForSequenceClassification model from a BertForSequenceClassification model).\n",
            "All the weights of TFCamembertModel were initialized from the PyTorch model.\n",
            "If your task is similar to the task the model of the checkpoint was trained on, you can already use TFCamembertModel for predictions without further training.\n"
          ]
        }
      ],
      "source": [
        "# $CHALLENGIFY_BEGIN\n",
        "from transformers import TFAutoModel\n",
        "model = TFAutoModel.from_pretrained(\"almanach/camembert-base\", from_pt = True)\n",
        "# $CHALLENGIFY_END"
      ]
    },
    {
      "cell_type": "code",
      "execution_count": 62,
      "metadata": {
        "colab": {
          "base_uri": "https://localhost:8080/"
        },
        "id": "CekDMnitZKPG",
        "outputId": "df879dc1-1b69-4926-f66c-cd18b13ad84a"
      },
      "outputs": [
        {
          "data": {
            "text/plain": [
              "110621952"
            ]
          },
          "execution_count": 62,
          "metadata": {},
          "output_type": "execute_result"
        }
      ],
      "source": [
        "model.num_parameters()"
      ]
    },
    {
      "cell_type": "code",
      "execution_count": 63,
      "metadata": {
        "colab": {
          "base_uri": "https://localhost:8080/"
        },
        "id": "z5VcCRyfZKPJ",
        "outputId": "520fcdb1-70ba-4963-8686-87f5a8867b8c"
      },
      "outputs": [
        {
          "data": {
            "text/plain": [
              "{'input_ids': <tf.Tensor: shape=(1, 25), dtype=int32, numpy=\n",
              "array([[    5,  1529,    44,    31,    39,  3422, 12931,    16,  4964,\n",
              "           24,    27,    17,    12,  2165,  1516,    98, 14845,    35,\n",
              "           37,    16,  5166, 11543,   255,    83,     6]], dtype=int32)>, 'attention_mask': <tf.Tensor: shape=(1, 25), dtype=int32, numpy=\n",
              "array([[1, 1, 1, 1, 1, 1, 1, 1, 1, 1, 1, 1, 1, 1, 1, 1, 1, 1, 1, 1, 1, 1,\n",
              "        1, 1, 1]], dtype=int32)>}"
            ]
          },
          "execution_count": 63,
          "metadata": {},
          "output_type": "execute_result"
        }
      ],
      "source": [
        "tensor_token = tokenizer(X[100], return_tensors=\"tf\")\n",
        "tensor_token"
      ]
    },
    {
      "cell_type": "code",
      "execution_count": 7,
      "metadata": {
        "colab": {
          "base_uri": "https://localhost:8080/",
          "height": 447
        },
        "id": "b7QaTvMsZKPN",
        "outputId": "3b01d24e-4e24-4500-8792-66abf06ac258"
      },
      "outputs": [
        {
          "data": {
            "text/plain": [
              "<AxesSubplot:>"
            ]
          },
          "execution_count": 7,
          "metadata": {},
          "output_type": "execute_result"
        },
        {
          "data": {
            "image/png": "[encoded data removed]",
            "text/plain": [
              "<Figure size 640x480 with 1 Axes>"
            ]
          },
          "metadata": {},
          "output_type": "display_data"
        }
      ],
      "source": [
        "df_preproc[\"tokenized\"] = X.map(lambda x: tokenizer(x)[\"input_ids\"])\n",
        "\n",
        "df_preproc[\"len_tokenized\"] = X.map(lambda x: len(x))\n",
        "\n",
        "df_preproc[\"len_tokenized\"].hist()"
      ]
    },
    {
      "cell_type": "code",
      "execution_count": 11,
      "metadata": {
        "id": "8_gn-sE6ZKPR"
      },
      "outputs": [],
      "source": [
        "sample_size = 1_000\n",
        "# $CHALLENGIFY_BEGIN\n",
        "tokenized_tensors = tokenizer(X[0:sample_size].tolist(), max_length=50, padding = \"max_length\", truncation = True, return_tensors=\"tf\")\n",
        "# $CHALLENGIFY_END"
      ]
    },
    {
      "cell_type": "code",
      "execution_count": 12,
      "metadata": {
        "colab": {
          "base_uri": "https://localhost:8080/"
        },
        "id": "xsyPJk9rZKPT",
        "outputId": "cae5b2b1-b019-4dbe-fb63-84d51a06227f"
      },
      "outputs": [
        {
          "data": {
            "text/plain": [
              "TensorShape([1000, 50])"
            ]
          },
          "execution_count": 12,
          "metadata": {},
          "output_type": "execute_result"
        }
      ],
      "source": [
        "tokenized_tensors.input_ids.shape"
      ]
    },
    {
      "cell_type": "code",
      "execution_count": 13,
      "metadata": {
        "colab": {
          "base_uri": "https://localhost:8080/"
        },
        "collapsed": true,
        "id": "sI7vedPLZKPX",
        "outputId": "a87760eb-bbd2-4673-dce3-81c75f3ebcea"
      },
      "outputs": [
        {
          "name": "stdout",
          "output_type": "stream",
          "text": [
            "32/32 [==============================] - 56s 2s/step\n"
          ]
        }
      ],
      "source": [
        "#embeddings = model.predict(tokenized_tensors[\"input_ids\"])\n",
        "\n",
        "# Process the data in smaller batches\n",
        "batch_size = 1000\n",
        "embeddings = []\n",
        "for i in range(0, sample_size, batch_size):\n",
        "  batch_tensors = {k: v[i:i+batch_size] for k, v in tokenized_tensors.items()}\n",
        "  batch_embeddings = model.predict(batch_tensors)\n",
        "  embeddings.append(batch_embeddings)\n",
        "\n",
        "# Concatenate the embeddings from all batches if necessary\n",
        "#embeddings = np.concatenate(embeddings, axis=0)"
      ]
    },
    {
      "cell_type": "code",
      "execution_count": 68,
      "metadata": {
        "colab": {
          "base_uri": "https://localhost:8080/"
        },
        "collapsed": true,
        "id": "8HZI8e6B1iJX",
        "outputId": "44189f10-665d-4939-9d03-6539d1c922ab"
      },
      "outputs": [
        {
          "data": {
            "text/plain": [
              "[TFBaseModelOutputWithPoolingAndCrossAttentions(last_hidden_state=array([[[ 0.0532216 ,  0.04991533,  0.11046433, ..., -0.10858361,\n",
              "           0.03737129,  0.01106982],\n",
              "         [ 0.07157488, -0.07916652,  0.19290388, ...,  0.04103545,\n",
              "           0.03665847,  0.00314953],\n",
              "         [ 0.01561672,  0.1242684 ,  0.09406839, ..., -0.12447987,\n",
              "          -0.07138798,  0.07295808],\n",
              "         ...,\n",
              "         [ 0.12353781, -0.4236256 ,  0.11867408, ..., -0.01154631,\n",
              "           0.04105398,  0.05313944],\n",
              "         [ 0.10628681,  0.37706286,  0.03471105, ..., -0.05813531,\n",
              "           0.11697111,  0.08601231],\n",
              "         [ 0.00896474,  0.08237365,  0.12580264, ..., -0.07772678,\n",
              "          -0.00794704, -0.01098449]],\n",
              " \n",
              "        [[ 0.0573686 , -0.11006868,  0.07004149, ..., -0.07074985,\n",
              "           0.00697343,  0.06330613],\n",
              "         [-0.04865991,  0.28864408,  0.15087992, ...,  0.06994699,\n",
              "           0.04030158,  0.10710821],\n",
              "         [-0.07784609,  0.03689325, -0.01827803, ..., -0.02139324,\n",
              "           0.05181057,  0.1405569 ],\n",
              "         ...,\n",
              "         [ 0.02034989, -0.06989709,  0.07907166, ..., -0.03112511,\n",
              "          -0.0438058 ,  0.04739865],\n",
              "         [ 0.02034983, -0.06989705,  0.07907169, ..., -0.03112503,\n",
              "          -0.04380582,  0.04739868],\n",
              "         [ 0.02034983, -0.06989705,  0.07907169, ..., -0.03112503,\n",
              "          -0.04380582,  0.04739868]],\n",
              " \n",
              "        [[ 0.02135202, -0.05891328,  0.02808373, ..., -0.10451693,\n",
              "           0.04919638,  0.03596504],\n",
              "         [ 0.00111712, -0.02288737,  0.04322204, ..., -0.02363787,\n",
              "           0.07864102, -0.15082198],\n",
              "         [ 0.07137435, -0.1801548 , -0.22542328, ..., -0.0361082 ,\n",
              "           0.03711494,  0.04565996],\n",
              "         ...,\n",
              "         [-0.10954615, -0.10158011,  0.02268134, ..., -0.10677227,\n",
              "          -0.10210837,  0.11351886],\n",
              "         [-0.00146073, -0.00801273, -0.22618034, ..., -0.06958192,\n",
              "           0.0053869 ,  0.10021617],\n",
              "         [-0.02734957, -0.02453239,  0.03180564, ..., -0.07706717,\n",
              "           0.00839004,  0.0117471 ]],\n",
              " \n",
              "        ...,\n",
              " \n",
              "        [[-0.02487355, -0.06779601,  0.06453614, ..., -0.10536265,\n",
              "           0.07783864, -0.00442054],\n",
              "         [ 0.03186774, -0.2713113 ,  0.10464446, ..., -0.26086032,\n",
              "          -0.05401525, -0.15595356],\n",
              "         [ 0.05238158, -0.18840547,  0.03651613, ..., -0.06146117,\n",
              "           0.16337648, -0.23862965],\n",
              "         ...,\n",
              "         [-0.07002269, -0.03396264,  0.06796762, ..., -0.07842161,\n",
              "           0.04539342, -0.03289903],\n",
              "         [-0.07002269, -0.03396258,  0.06796765, ..., -0.07842156,\n",
              "           0.04539345, -0.03289909],\n",
              "         [-0.07002269, -0.03396258,  0.06796765, ..., -0.07842156,\n",
              "           0.04539345, -0.03289909]],\n",
              " \n",
              "        [[-0.00860545,  0.10444974,  0.03997996, ..., -0.13141233,\n",
              "          -0.0197931 , -0.0036455 ],\n",
              "         [ 0.1033484 , -0.03965028, -0.05235564, ..., -0.02201672,\n",
              "           0.03442446,  0.02119274],\n",
              "         [-0.00088031, -0.12675726, -0.10106494, ..., -0.18330525,\n",
              "          -0.02982882,  0.04778495],\n",
              "         ...,\n",
              "         [ 0.00606205,  0.24034736, -0.2907283 , ..., -0.04158282,\n",
              "          -0.00880545,  0.17406796],\n",
              "         [ 0.03569442,  0.18192166, -0.0350143 , ...,  0.05151936,\n",
              "           0.01075061, -0.04779612],\n",
              "         [-0.04907873,  0.15580511,  0.03834131, ..., -0.09768733,\n",
              "          -0.06079158, -0.03724869]],\n",
              " \n",
              "        [[ 0.02121029,  0.04755337,  0.03001956, ..., -0.06557044,\n",
              "           0.01952307,  0.02841327],\n",
              "         [ 0.03249057,  0.17403728, -0.40085763, ...,  0.04213519,\n",
              "           0.01555281,  0.04643239],\n",
              "         [-0.10595357,  0.26550508,  0.00406124, ..., -0.02299646,\n",
              "           0.07513246,  0.15174976],\n",
              "         ...,\n",
              "         [-0.03961656,  0.09442504,  0.02692606, ..., -0.01272478,\n",
              "          -0.02704716,  0.0041235 ],\n",
              "         [-0.0396166 ,  0.09442507,  0.02692609, ..., -0.01272475,\n",
              "          -0.02704712,  0.00412335],\n",
              "         [-0.0396166 ,  0.09442507,  0.02692609, ..., -0.01272475,\n",
              "          -0.02704712,  0.00412335]]], dtype=float32), pooler_output=array([[-0.07433958,  0.0885286 , -0.00400667, ...,  0.05046217,\n",
              "         -0.10965187,  0.04143011],\n",
              "        [-0.07649738,  0.06224904,  0.01935486, ...,  0.03014826,\n",
              "         -0.11957731,  0.03755146],\n",
              "        [-0.04815128,  0.04451448,  0.00651211, ...,  0.01831033,\n",
              "         -0.14759617,  0.05560294],\n",
              "        ...,\n",
              "        [-0.08137234,  0.05834537, -0.02054962, ...,  0.0243366 ,\n",
              "         -0.07695096,  0.05847668],\n",
              "        [-0.06086577,  0.04456967,  0.01188855, ...,  0.11928293,\n",
              "         -0.12670204,  0.01072201],\n",
              "        [-0.14568353,  0.08086143, -0.00464328, ...,  0.04065513,\n",
              "         -0.11723059,  0.09650236]], dtype=float32), past_key_values=None, hidden_states=None, attentions=None, cross_attentions=None),\n",
              " TFBaseModelOutputWithPoolingAndCrossAttentions(last_hidden_state=array([[[ 0.04483905,  0.04328948,  0.0343098 , ..., -0.14439426,\n",
              "           0.0442443 ,  0.01062269],\n",
              "         [-0.04738365,  0.31332865,  0.2579147 , ..., -0.05610039,\n",
              "          -0.07082491,  0.24289763],\n",
              "         [ 0.00126675, -0.08928013, -0.2749131 , ..., -0.12585714,\n",
              "           0.08200992,  0.15451697],\n",
              "         ...,\n",
              "         [ 0.05003488,  0.05974304, -0.4938677 , ..., -0.08814285,\n",
              "           0.10858123, -0.11722536],\n",
              "         [-0.08879005,  0.27932882, -0.17885083, ..., -0.10662202,\n",
              "           0.13801956,  0.10666053],\n",
              "         [ 0.00231586,  0.08546301,  0.02778574, ..., -0.12013712,\n",
              "          -0.00411814, -0.02276717]],\n",
              " \n",
              "        [[ 0.00871858, -0.02516145,  0.10859907, ..., -0.06791754,\n",
              "           0.03839319,  0.00781716],\n",
              "         [ 0.10638995,  0.33907646, -0.08435838, ..., -0.06422389,\n",
              "          -0.01809641,  0.22202815],\n",
              "         [ 0.10035571, -0.01737811, -0.04287761, ..., -0.14929383,\n",
              "           0.13531393, -0.02669568],\n",
              "         ...,\n",
              "         [ 0.02837098,  0.32812732, -0.23575667, ..., -0.02329479,\n",
              "           0.0015936 ,  0.18441439],\n",
              "         [ 0.02837104,  0.32812703, -0.23575664, ..., -0.02329479,\n",
              "           0.00159345,  0.18441464],\n",
              "         [ 0.02837104,  0.32812703, -0.23575664, ..., -0.02329479,\n",
              "           0.00159345,  0.18441464]],\n",
              " \n",
              "        [[ 0.06523306, -0.02633297,  0.04987742, ..., -0.14623944,\n",
              "           0.02813136,  0.02951763],\n",
              "         [ 0.07835254, -0.18268195, -0.11681926, ..., -0.01036401,\n",
              "           0.1658448 ,  0.10024828],\n",
              "         [ 0.08123238,  0.21483126,  0.10772768, ..., -0.02161118,\n",
              "           0.063192  ,  0.07561336],\n",
              "         ...,\n",
              "         [ 0.16978996, -0.09975056, -0.34392688, ..., -0.09999032,\n",
              "           0.08684004,  0.092132  ],\n",
              "         [ 0.02168372,  0.02664861, -0.04723176, ..., -0.01307826,\n",
              "           0.05552873,  0.01700027],\n",
              "         [ 0.01228333,  0.01809515,  0.04988529, ..., -0.12149891,\n",
              "          -0.02200658, -0.00138498]],\n",
              " \n",
              "        ...,\n",
              " \n",
              "        [[ 0.05983344,  0.05671158,  0.03659831, ..., -0.07518321,\n",
              "           0.05273004,  0.06373087],\n",
              "         [ 0.14191958,  0.27861053,  0.10586583, ..., -0.08841232,\n",
              "           0.07172714,  0.23164378],\n",
              "         [ 0.02980343,  0.1363561 , -0.03334915, ..., -0.05782614,\n",
              "           0.04238353,  0.20577964],\n",
              "         ...,\n",
              "         [ 0.00850154,  0.05830826, -0.45316988, ..., -0.07194385,\n",
              "           0.09477089,  0.21615264],\n",
              "         [ 0.02899532,  0.020443  , -0.1719961 , ...,  0.02703145,\n",
              "           0.15639934,  0.05516883],\n",
              "         [ 0.01576994,  0.10808568,  0.03240161, ..., -0.04294338,\n",
              "           0.02027646,  0.03186421]],\n",
              " \n",
              "        [[-0.02861596,  0.05287183, -0.01784409, ..., -0.09124922,\n",
              "           0.05477165,  0.02236572],\n",
              "         [ 0.15494354,  0.23941067,  0.24361312, ..., -0.13562605,\n",
              "          -0.07938208,  0.14056279],\n",
              "         [ 0.28735888,  0.27694196,  0.25038654, ..., -0.02328957,\n",
              "           0.12608632, -0.13028029],\n",
              "         ...,\n",
              "         [-0.07829931,  0.09584172, -0.03473176, ..., -0.06156932,\n",
              "           0.00189724,  0.00193278],\n",
              "         [-0.07829931,  0.09584162, -0.0347317 , ..., -0.06156944,\n",
              "           0.00189722,  0.0019329 ],\n",
              "         [-0.07829931,  0.09584162, -0.0347317 , ..., -0.06156944,\n",
              "           0.00189722,  0.0019329 ]],\n",
              " \n",
              "        [[ 0.03323176,  0.13777645, -0.03452965, ..., -0.03664993,\n",
              "           0.08660562,  0.00784931],\n",
              "         [ 0.05203903,  0.13283938, -0.15874195, ..., -0.06943521,\n",
              "           0.04546717,  0.08830115],\n",
              "         [ 0.20159271,  0.02801904,  0.04471217, ...,  0.05454785,\n",
              "           0.13819303, -0.06899091],\n",
              "         ...,\n",
              "         [-0.00492669,  0.17510313, -0.04907512, ..., -0.00429956,\n",
              "           0.03274714, -0.02639227],\n",
              "         [-0.00492673,  0.17510319, -0.04907509, ..., -0.00429953,\n",
              "           0.03274715, -0.02639226],\n",
              "         [-0.00492673,  0.17510319, -0.04907509, ..., -0.00429953,\n",
              "           0.03274715, -0.02639226]]], dtype=float32), pooler_output=array([[-0.01517545,  0.05864871, -0.00060927, ...,  0.07882947,\n",
              "         -0.11688049,  0.00779467],\n",
              "        [-0.07357951,  0.08631353, -0.01909099, ...,  0.02795455,\n",
              "         -0.14952613,  0.05973255],\n",
              "        [-0.0667493 ,  0.02853087,  0.00374316, ...,  0.05651533,\n",
              "         -0.13654768,  0.05362466],\n",
              "        ...,\n",
              "        [-0.03421524,  0.06984394, -0.03278877, ...,  0.02755709,\n",
              "         -0.12318652,  0.06702704],\n",
              "        [-0.05165903,  0.05359556,  0.02092887, ...,  0.04707202,\n",
              "         -0.0972897 ,  0.013241  ],\n",
              "        [-0.0789745 ,  0.03589251, -0.00369849, ...,  0.04117614,\n",
              "         -0.08382163,  0.03324052]], dtype=float32), past_key_values=None, hidden_states=None, attentions=None, cross_attentions=None)]"
            ]
          },
          "execution_count": 68,
          "metadata": {},
          "output_type": "execute_result"
        }
      ],
      "source": [
        "embeddings[0:2]"
      ]
    },
    {
      "cell_type": "code",
      "execution_count": 14,
      "metadata": {
        "id": "kjgCcmHQxN5W"
      },
      "outputs": [],
      "source": [
        "nb_batches = int(round(sample_size / batch_size,0))\n",
        "embeddings_all = np.concatenate([embeddings[x].last_hidden_state[:,0,:] for x in range(nb_batches)], axis=0)"
      ]
    },
    {
      "cell_type": "code",
      "execution_count": 15,
      "metadata": {
        "colab": {
          "base_uri": "https://localhost:8080/"
        },
        "id": "754EftNJZKPY",
        "outputId": "0d03c181-255a-49f5-f051-d41db7ae5926"
      },
      "outputs": [
        {
          "data": {
            "text/plain": [
              "(1000, 768)"
            ]
          },
          "execution_count": 15,
          "metadata": {},
          "output_type": "execute_result"
        }
      ],
      "source": [
        "embeddings_all.shape"
      ]
    },
    {
      "cell_type": "code",
      "execution_count": 16,
      "metadata": {
        "id": "kl_3UuANZKPZ"
      },
      "outputs": [],
      "source": [
        "#X_sample = embeddings.last_hidden_state[:,0,:]\n",
        "X_sample = embeddings_all\n",
        "y_sample = y_encoded[0:sample_size]"
      ]
    },
    {
      "cell_type": "code",
      "execution_count": 17,
      "metadata": {
        "colab": {
          "base_uri": "https://localhost:8080/"
        },
        "id": "BmHbNxU8ZKPZ",
        "outputId": "1e943202-9c83-4fb2-db50-30e9a02a8547"
      },
      "outputs": [
        {
          "data": {
            "text/plain": [
              "((800, 768), (200, 768), (800,), (200,))"
            ]
          },
          "execution_count": 17,
          "metadata": {},
          "output_type": "execute_result"
        }
      ],
      "source": [
        "X_train, X_test, y_train, y_test = train_test_split(X_sample, y_sample, test_size=0.2, random_state=42)\n",
        "X_train.shape, X_test.shape, y_train.shape, y_test.shape"
      ]
    },
    {
      "cell_type": "code",
      "execution_count": 26,
      "metadata": {},
      "outputs": [
        {
          "data": {
            "text/plain": [
              "4"
            ]
          },
          "execution_count": 26,
          "metadata": {},
          "output_type": "execute_result"
        }
      ],
      "source": [
        "label_dim = len(label_encoder.classes_)\n",
        "label_dim"
      ]
    },
    {
      "cell_type": "code",
      "execution_count": 74,
      "metadata": {
        "colab": {
          "base_uri": "https://localhost:8080/"
        },
        "id": "E9n-33gWZKPa",
        "outputId": "68d30f95-37cf-4bb0-de7e-f127057e69e7"
      },
      "outputs": [
        {
          "name": "stdout",
          "output_type": "stream",
          "text": [
            "Model: \"sequential_12\"\n",
            "_________________________________________________________________\n",
            " Layer (type)                Output Shape              Param #   \n",
            "=================================================================\n",
            " dense_19 (Dense)            (None, 256)               196864    \n",
            "                                                                 \n",
            " flatten_7 (Flatten)         (None, 256)               0         \n",
            "                                                                 \n",
            " dense_20 (Dense)            (None, 8)                 2056      \n",
            "                                                                 \n",
            "=================================================================\n",
            "Total params: 198,920\n",
            "Trainable params: 198,920\n",
            "Non-trainable params: 0\n",
            "_________________________________________________________________\n"
          ]
        }
      ],
      "source": [
        "# $CHALLENGIFY_BEGIN\n",
        "from tensorflow.keras import Sequential\n",
        "from tensorflow.keras.layers import Dense, Flatten\n",
        "\n",
        "input_shape = (768,)\n",
        "\n",
        "dense_model = Sequential([\n",
        "    Dense(256, activation='relu', input_shape=input_shape),\n",
        "    Flatten(),\n",
        "    Dense(8, activation='softmax')\n",
        "])\n",
        "\n",
        "dense_model.summary()\n",
        "# $CHALLENGIFY_END"
      ]
    },
    {
      "cell_type": "code",
      "execution_count": 75,
      "metadata": {
        "colab": {
          "base_uri": "https://localhost:8080/"
        },
        "id": "Cuz7dxoiZKPb",
        "outputId": "f81969f8-a39c-41ca-c610-822db3199cb0"
      },
      "outputs": [
        {
          "name": "stdout",
          "output_type": "stream",
          "text": [
            "Epoch 1/100\n",
            "200/200 [==============================] - 2s 4ms/step - loss: 1.1043 - accuracy: 0.4664 - val_loss: 1.0644 - val_accuracy: 0.5131\n",
            "Epoch 2/100\n",
            "200/200 [==============================] - 0s 2ms/step - loss: 1.0571 - accuracy: 0.4986 - val_loss: 1.0409 - val_accuracy: 0.5181\n",
            "Epoch 3/100\n",
            "200/200 [==============================] - 0s 2ms/step - loss: 1.0461 - accuracy: 0.5066 - val_loss: 1.0465 - val_accuracy: 0.5006\n",
            "Epoch 4/100\n",
            "200/200 [==============================] - 0s 2ms/step - loss: 1.0418 - accuracy: 0.5048 - val_loss: 1.0434 - val_accuracy: 0.5069\n",
            "Epoch 5/100\n",
            "200/200 [==============================] - 0s 2ms/step - loss: 1.0306 - accuracy: 0.5133 - val_loss: 1.0493 - val_accuracy: 0.5044\n",
            "Epoch 6/100\n",
            "200/200 [==============================] - 0s 2ms/step - loss: 1.0200 - accuracy: 0.5206 - val_loss: 1.0412 - val_accuracy: 0.5150\n",
            "Epoch 7/100\n",
            "200/200 [==============================] - 1s 3ms/step - loss: 1.0162 - accuracy: 0.5256 - val_loss: 1.0372 - val_accuracy: 0.5169\n",
            "Epoch 8/100\n",
            "200/200 [==============================] - 0s 2ms/step - loss: 1.0121 - accuracy: 0.5219 - val_loss: 1.0433 - val_accuracy: 0.5113\n",
            "Epoch 9/100\n",
            "200/200 [==============================] - 0s 2ms/step - loss: 1.0039 - accuracy: 0.5339 - val_loss: 1.0387 - val_accuracy: 0.5181\n",
            "Epoch 10/100\n",
            "200/200 [==============================] - 1s 3ms/step - loss: 1.0066 - accuracy: 0.5317 - val_loss: 1.0351 - val_accuracy: 0.5113\n",
            "Epoch 11/100\n",
            "200/200 [==============================] - 1s 3ms/step - loss: 0.9969 - accuracy: 0.5366 - val_loss: 1.0308 - val_accuracy: 0.5188\n",
            "Epoch 12/100\n",
            "200/200 [==============================] - 1s 3ms/step - loss: 0.9964 - accuracy: 0.5395 - val_loss: 1.0312 - val_accuracy: 0.5250\n",
            "Epoch 13/100\n",
            "200/200 [==============================] - 1s 3ms/step - loss: 0.9816 - accuracy: 0.5428 - val_loss: 1.0487 - val_accuracy: 0.4913\n",
            "Epoch 14/100\n",
            "200/200 [==============================] - 0s 2ms/step - loss: 0.9814 - accuracy: 0.5416 - val_loss: 1.0451 - val_accuracy: 0.4994\n",
            "Epoch 15/100\n",
            "200/200 [==============================] - 0s 2ms/step - loss: 0.9715 - accuracy: 0.5541 - val_loss: 1.0284 - val_accuracy: 0.5263\n",
            "Epoch 16/100\n",
            "200/200 [==============================] - 1s 3ms/step - loss: 0.9719 - accuracy: 0.5533 - val_loss: 1.0314 - val_accuracy: 0.5163\n",
            "Epoch 17/100\n",
            "200/200 [==============================] - 1s 3ms/step - loss: 0.9645 - accuracy: 0.5553 - val_loss: 1.0395 - val_accuracy: 0.5163\n",
            "Epoch 18/100\n",
            "200/200 [==============================] - 0s 2ms/step - loss: 0.9612 - accuracy: 0.5653 - val_loss: 1.0318 - val_accuracy: 0.5206\n",
            "Epoch 19/100\n",
            "200/200 [==============================] - 1s 3ms/step - loss: 0.9476 - accuracy: 0.5663 - val_loss: 1.0750 - val_accuracy: 0.5088\n",
            "Epoch 20/100\n",
            "200/200 [==============================] - 1s 3ms/step - loss: 0.9517 - accuracy: 0.5591 - val_loss: 1.0336 - val_accuracy: 0.5144\n",
            "63/63 [==============================] - 0s 3ms/step - loss: 1.0062 - accuracy: 0.5250\n"
          ]
        },
        {
          "data": {
            "text/plain": [
              "[1.006202220916748, 0.5249999761581421]"
            ]
          },
          "execution_count": 75,
          "metadata": {},
          "output_type": "execute_result"
        }
      ],
      "source": [
        "patience_ = 5\n",
        "epoch_=100\n",
        "early_stopper = EarlyStopping(monitor='val_loss', patience=patience_, restore_best_weights=True)\n",
        "\n",
        "dense_model.compile(optimizer='adam', loss='sparse_categorical_crossentropy', metrics=['accuracy'])\n",
        "\n",
        "dense_model.fit(X_train, y_train, validation_split=0.2, epochs=epoch_, batch_size=32, callbacks=[early_stopper])\n",
        "\n",
        "dense_model.evaluate(X_test, y_test)"
      ]
    },
    {
      "cell_type": "code",
      "execution_count": 20,
      "metadata": {
        "colab": {
          "base_uri": "https://localhost:8080/"
        },
        "id": "ojX5kSlI8AgG",
        "outputId": "b1537726-5b8d-4a46-d800-ecc1ec6540b0"
      },
      "outputs": [
        {
          "name": "stdout",
          "output_type": "stream",
          "text": [
            "1/7 [===>..........................] - ETA: 0s"
          ]
        },
        {
          "name": "stdout",
          "output_type": "stream",
          "text": [
            "7/7 [==============================] - 0s 2ms/step\n"
          ]
        }
      ],
      "source": [
        "# Prédire sur l'ensemble de test\n",
        "y_pred = model_bert.predict(X_test)\n",
        "y_pred_classes = np.argmax(y_pred, axis=1)"
      ]
    },
    {
      "cell_type": "code",
      "execution_count": 25,
      "metadata": {},
      "outputs": [
        {
          "data": {
            "text/plain": [
              "(200,)"
            ]
          },
          "execution_count": 25,
          "metadata": {},
          "output_type": "execute_result"
        }
      ],
      "source": [
        "y_pred_classes.shape"
      ]
    },
    {
      "cell_type": "code",
      "execution_count": null,
      "metadata": {},
      "outputs": [],
      "source": [
        "# Afficher le rapport de classification\n",
        "print(\"Rapport de classification pour le Dense avec Bert:\")\n",
        "print(classification_report(y_test, y_pred_classes, target_names=label_encoder.classes_))"
      ]
    },
    {
      "cell_type": "code",
      "execution_count": 78,
      "metadata": {},
      "outputs": [],
      "source": [
        "models_dir=f'data/models/{timestamp()}'\n",
        "os.makedirs(models_dir, exist_ok=True)\n",
        "model_path = models_dir+\"/bert-{epoch:04d}.keras\"\n",
        "save_model(dense_model, model_path, overwrite=True)\n"
      ]
    },
    {
      "cell_type": "code",
      "execution_count": 2,
      "metadata": {},
      "outputs": [
        {
          "name": "stderr",
          "output_type": "stream",
          "text": [
            "2024-08-28 11:42:19.012178: I tensorflow/core/platform/cpu_feature_guard.cc:193] This TensorFlow binary is optimized with oneAPI Deep Neural Network Library (oneDNN) to use the following CPU instructions in performance-critical operations:  AVX2 AVX_VNNI FMA\n",
            "To enable them in other operations, rebuild TensorFlow with the appropriate compiler flags.\n"
          ]
        }
      ],
      "source": [
        "model_bert = load_model(\"data/models/2024-08-28-113853/bert-{epoch:04d}.keras\")"
      ]
    },
    {
      "cell_type": "code",
      "execution_count": 10,
      "metadata": {},
      "outputs": [
        {
          "ename": "IndexError",
          "evalue": "tuple index out of range",
          "output_type": "error",
          "traceback": [
            "\u001b[0;31m---------------------------------------------------------------------------\u001b[0m",
            "\u001b[0;31mIndexError\u001b[0m                                Traceback (most recent call last)",
            "Cell \u001b[0;32mIn [10], line 1\u001b[0m\n\u001b[0;32m----> 1\u001b[0m \u001b[43mmodel_bert\u001b[49m\u001b[38;5;241;43m.\u001b[39;49m\u001b[43mpredict\u001b[49m\u001b[43m(\u001b[49m\u001b[38;5;124;43m\"\u001b[39;49m\u001b[38;5;124;43mNous devons améliorer la politique d\u001b[39;49m\u001b[38;5;124;43m'\u001b[39;49m\u001b[38;5;124;43maide aux entreprises\u001b[39;49m\u001b[38;5;124;43m\"\u001b[39;49m\u001b[43m)\u001b[49m\n",
            "File \u001b[0;32m~/.pyenv/versions/3.10.6/envs/lewagon/lib/python3.10/site-packages/keras/utils/traceback_utils.py:70\u001b[0m, in \u001b[0;36mfilter_traceback.<locals>.error_handler\u001b[0;34m(*args, **kwargs)\u001b[0m\n\u001b[1;32m     67\u001b[0m     filtered_tb \u001b[38;5;241m=\u001b[39m _process_traceback_frames(e\u001b[38;5;241m.\u001b[39m__traceback__)\n\u001b[1;32m     68\u001b[0m     \u001b[38;5;66;03m# To get the full stack trace, call:\u001b[39;00m\n\u001b[1;32m     69\u001b[0m     \u001b[38;5;66;03m# `tf.debugging.disable_traceback_filtering()`\u001b[39;00m\n\u001b[0;32m---> 70\u001b[0m     \u001b[38;5;28;01mraise\u001b[39;00m e\u001b[38;5;241m.\u001b[39mwith_traceback(filtered_tb) \u001b[38;5;28;01mfrom\u001b[39;00m \u001b[38;5;28mNone\u001b[39m\n\u001b[1;32m     71\u001b[0m \u001b[38;5;28;01mfinally\u001b[39;00m:\n\u001b[1;32m     72\u001b[0m     \u001b[38;5;28;01mdel\u001b[39;00m filtered_tb\n",
            "File \u001b[0;32m~/.pyenv/versions/3.10.6/envs/lewagon/lib/python3.10/site-packages/tensorflow/python/framework/tensor_shape.py:910\u001b[0m, in \u001b[0;36mTensorShape.__getitem__\u001b[0;34m(self, key)\u001b[0m\n\u001b[1;32m    908\u001b[0m \u001b[38;5;28;01melse\u001b[39;00m:\n\u001b[1;32m    909\u001b[0m   \u001b[38;5;28;01mif\u001b[39;00m \u001b[38;5;28mself\u001b[39m\u001b[38;5;241m.\u001b[39m_v2_behavior:\n\u001b[0;32m--> 910\u001b[0m     \u001b[38;5;28;01mreturn\u001b[39;00m \u001b[38;5;28;43mself\u001b[39;49m\u001b[38;5;241;43m.\u001b[39;49m\u001b[43m_dims\u001b[49m\u001b[43m[\u001b[49m\u001b[43mkey\u001b[49m\u001b[43m]\u001b[49m\n\u001b[1;32m    911\u001b[0m   \u001b[38;5;28;01melse\u001b[39;00m:\n\u001b[1;32m    912\u001b[0m     \u001b[38;5;28;01mreturn\u001b[39;00m \u001b[38;5;28mself\u001b[39m\u001b[38;5;241m.\u001b[39mdims[key]\n",
            "\u001b[0;31mIndexError\u001b[0m: tuple index out of range"
          ]
        }
      ],
      "source": [
        "X_pred = \"Nous devons améliorer la politique d'aide aux entreprises\""
      ]
    },
    {
      "cell_type": "code",
      "execution_count": null,
      "metadata": {},
      "outputs": [],
      "source": [
        "# Prédire sur l'ensemble de test\n",
        "y_pred = model_bert.predict(X_test)\n",
        "y_pred_classes = np.argmax(y_pred, axis=1)\n",
        "\n",
        "# Afficher le rapport de classification\n",
        "print(\"Rapport de classification pour le Dense avec Bert:\")\n",
        "print(classification_report(y_test, y_pred_classes, target_names=label_encoder.classes_))"
      ]
    },
    {
      "cell_type": "markdown",
      "metadata": {
        "id": "gBxy2OqR5c0t"
      },
      "source": [
        "## Other structure"
      ]
    },
    {
      "cell_type": "code",
      "execution_count": 16,
      "metadata": {
        "id": "C011X9OYZKPb",
        "outputId": "e9d2bc9c-888f-4581-d38f-56df0130c0f3"
      },
      "outputs": [
        {
          "ename": "NameError",
          "evalue": "name 'y_encoded' is not defined",
          "output_type": "error",
          "traceback": [
            "\u001b[0;31m---------------------------------------------------------------------------\u001b[0m",
            "\u001b[0;31mNameError\u001b[0m                                 Traceback (most recent call last)",
            "Cell \u001b[0;32mIn [16], line 14\u001b[0m\n\u001b[1;32m     12\u001b[0m model\u001b[38;5;241m.\u001b[39madd(Masking(input_shape\u001b[38;5;241m=\u001b[39minput_shape))\n\u001b[1;32m     13\u001b[0m model\u001b[38;5;241m.\u001b[39madd(Dense(\u001b[38;5;241m256\u001b[39m, activation\u001b[38;5;241m=\u001b[39m\u001b[38;5;124m'\u001b[39m\u001b[38;5;124mrelu\u001b[39m\u001b[38;5;124m'\u001b[39m))\n\u001b[0;32m---> 14\u001b[0m model\u001b[38;5;241m.\u001b[39madd(Dense(\u001b[38;5;28mlen\u001b[39m(np\u001b[38;5;241m.\u001b[39munique(\u001b[43my_encoded\u001b[49m)), activation\u001b[38;5;241m=\u001b[39m\u001b[38;5;124m'\u001b[39m\u001b[38;5;124msoftmax\u001b[39m\u001b[38;5;124m'\u001b[39m))\n\u001b[1;32m     16\u001b[0m \u001b[38;5;66;03m# Compiler le modèle\u001b[39;00m\n\u001b[1;32m     17\u001b[0m model\u001b[38;5;241m.\u001b[39mcompile(loss\u001b[38;5;241m=\u001b[39m\u001b[38;5;124m'\u001b[39m\u001b[38;5;124msparse_categorical_crossentropy\u001b[39m\u001b[38;5;124m'\u001b[39m, optimizer\u001b[38;5;241m=\u001b[39m\u001b[38;5;124m'\u001b[39m\u001b[38;5;124madam\u001b[39m\u001b[38;5;124m'\u001b[39m, metrics\u001b[38;5;241m=\u001b[39m[\u001b[38;5;124m'\u001b[39m\u001b[38;5;124maccuracy\u001b[39m\u001b[38;5;124m'\u001b[39m])\n",
            "\u001b[0;31mNameError\u001b[0m: name 'y_encoded' is not defined"
          ]
        }
      ],
      "source": [
        "# Construire le modèle RNN avec LSTM\n",
        "#embedding_dim = embedding_dim_\n",
        "input_shape = (768, 50)\n",
        "patience_ = 5\n",
        "epoch_=5\n",
        "\n",
        "early_stopper = EarlyStopping(monitor='val_loss', patience=patience_, restore_best_weights=True)\n",
        "\n",
        "model = Sequential()\n",
        "#model.add(Embedding(input_dim=max_words, output_dim=embedding_dim, input_length=max_len))\n",
        "#model.add(SpatialDropout1D(0.2))\n",
        "model.add(Masking(input_shape=input_shape))\n",
        "model.add(Dense(256, activation='relu'))\n",
        "model.add(Dense(len(np.unique(y_encoded)), activation='softmax'))\n",
        "\n",
        "# Compiler le modèle\n",
        "model.compile(loss='sparse_categorical_crossentropy', optimizer='adam', metrics=['accuracy'])\n",
        "\n",
        "# Afficher un résumé du modèle\n",
        "print(model.summary())"
      ]
    },
    {
      "cell_type": "code",
      "execution_count": null,
      "metadata": {
        "id": "YBskYABPZKPc",
        "outputId": "094b7ec8-c56c-41ba-de4b-e118b30c8ed6"
      },
      "outputs": [
        {
          "name": "stdout",
          "output_type": "stream",
          "text": [
            "Epoch 1/5\n",
            "WARNING:tensorflow:Model was constructed with shape (None, 768, 50) for input KerasTensor(type_spec=TensorSpec(shape=(None, 768, 50), dtype=tf.float32, name='masking_3_input'), name='masking_3_input', description=\"created by layer 'masking_3_input'\"), but it was called on an input with incompatible shape (None, 1).\n"
          ]
        },
        {
          "ename": "ValueError",
          "evalue": "in user code:\n\n    File \"/home/bouzelfi/.pyenv/versions/3.10.6/envs/lewagon/lib/python3.10/site-packages/keras/engine/training.py\", line 1160, in train_function  *\n        return step_function(self, iterator)\n    File \"/home/bouzelfi/.pyenv/versions/3.10.6/envs/lewagon/lib/python3.10/site-packages/keras/engine/training.py\", line 1146, in step_function  **\n        outputs = model.distribute_strategy.run(run_step, args=(data,))\n    File \"/home/bouzelfi/.pyenv/versions/3.10.6/envs/lewagon/lib/python3.10/site-packages/keras/engine/training.py\", line 1135, in run_step  **\n        outputs = model.train_step(data)\n    File \"/home/bouzelfi/.pyenv/versions/3.10.6/envs/lewagon/lib/python3.10/site-packages/keras/engine/training.py\", line 993, in train_step\n        y_pred = self(x, training=True)\n    File \"/home/bouzelfi/.pyenv/versions/3.10.6/envs/lewagon/lib/python3.10/site-packages/keras/utils/traceback_utils.py\", line 70, in error_handler\n        raise e.with_traceback(filtered_tb) from None\n    File \"/home/bouzelfi/.pyenv/versions/3.10.6/envs/lewagon/lib/python3.10/site-packages/keras/engine/input_spec.py\", line 277, in assert_input_compatibility\n        raise ValueError(\n\n    ValueError: Exception encountered when calling layer \"sequential_6\" \"                 f\"(type Sequential).\n    \n    Input 0 of layer \"dense_12\" is incompatible with the layer: expected axis -1 of input shape to have value 50, but received input with shape (None, 1)\n    \n    Call arguments received by layer \"sequential_6\" \"                 f\"(type Sequential):\n      • inputs=tf.Tensor(shape=(None, 1), dtype=string)\n      • training=True\n      • mask=None\n",
          "output_type": "error",
          "traceback": [
            "\u001b[0;31m---------------------------------------------------------------------------\u001b[0m",
            "\u001b[0;31mValueError\u001b[0m                                Traceback (most recent call last)",
            "Cell \u001b[0;32mIn [31], line 5\u001b[0m\n\u001b[1;32m      2\u001b[0m batch_size \u001b[38;5;241m=\u001b[39m \u001b[38;5;241m64\u001b[39m\n\u001b[1;32m      3\u001b[0m epochs \u001b[38;5;241m=\u001b[39m epoch_\n\u001b[0;32m----> 5\u001b[0m history \u001b[38;5;241m=\u001b[39m \u001b[43mmodel\u001b[49m\u001b[38;5;241;43m.\u001b[39;49m\u001b[43mfit\u001b[49m\u001b[43m(\u001b[49m\n\u001b[1;32m      6\u001b[0m \u001b[43m    \u001b[49m\u001b[43mX_train\u001b[49m\u001b[43m,\u001b[49m\u001b[43m \u001b[49m\u001b[43my_train\u001b[49m\u001b[43m,\u001b[49m\n\u001b[1;32m      7\u001b[0m \u001b[43m    \u001b[49m\u001b[43mepochs\u001b[49m\u001b[38;5;241;43m=\u001b[39;49m\u001b[43mepochs\u001b[49m\u001b[43m,\u001b[49m\n\u001b[1;32m      8\u001b[0m \u001b[43m    \u001b[49m\u001b[43mbatch_size\u001b[49m\u001b[38;5;241;43m=\u001b[39;49m\u001b[43mbatch_size\u001b[49m\u001b[43m,\u001b[49m\n\u001b[1;32m      9\u001b[0m \u001b[43m    \u001b[49m\u001b[43mvalidation_data\u001b[49m\u001b[38;5;241;43m=\u001b[39;49m\u001b[43m(\u001b[49m\u001b[43mX_test\u001b[49m\u001b[43m,\u001b[49m\u001b[43m \u001b[49m\u001b[43my_test\u001b[49m\u001b[43m)\u001b[49m\u001b[43m,\u001b[49m\n\u001b[1;32m     10\u001b[0m \u001b[43m    \u001b[49m\u001b[43mcallbacks\u001b[49m\u001b[38;5;241;43m=\u001b[39;49m\u001b[43m[\u001b[49m\u001b[43mearly_stopper\u001b[49m\u001b[43m]\u001b[49m\u001b[43m,\u001b[49m\n\u001b[1;32m     11\u001b[0m \u001b[43m    \u001b[49m\u001b[43mverbose\u001b[49m\u001b[38;5;241;43m=\u001b[39;49m\u001b[38;5;241;43m1\u001b[39;49m\n\u001b[1;32m     12\u001b[0m \u001b[43m)\u001b[49m\n\u001b[1;32m     14\u001b[0m \u001b[38;5;66;03m# Prédire sur l'ensemble de test\u001b[39;00m\n\u001b[1;32m     15\u001b[0m y_pred \u001b[38;5;241m=\u001b[39m model\u001b[38;5;241m.\u001b[39mpredict(X_test)\n",
            "File \u001b[0;32m~/.pyenv/versions/3.10.6/envs/lewagon/lib/python3.10/site-packages/keras/utils/traceback_utils.py:70\u001b[0m, in \u001b[0;36mfilter_traceback.<locals>.error_handler\u001b[0;34m(*args, **kwargs)\u001b[0m\n\u001b[1;32m     67\u001b[0m     filtered_tb \u001b[38;5;241m=\u001b[39m _process_traceback_frames(e\u001b[38;5;241m.\u001b[39m__traceback__)\n\u001b[1;32m     68\u001b[0m     \u001b[38;5;66;03m# To get the full stack trace, call:\u001b[39;00m\n\u001b[1;32m     69\u001b[0m     \u001b[38;5;66;03m# `tf.debugging.disable_traceback_filtering()`\u001b[39;00m\n\u001b[0;32m---> 70\u001b[0m     \u001b[38;5;28;01mraise\u001b[39;00m e\u001b[38;5;241m.\u001b[39mwith_traceback(filtered_tb) \u001b[38;5;28;01mfrom\u001b[39;00m \u001b[38;5;28mNone\u001b[39m\n\u001b[1;32m     71\u001b[0m \u001b[38;5;28;01mfinally\u001b[39;00m:\n\u001b[1;32m     72\u001b[0m     \u001b[38;5;28;01mdel\u001b[39;00m filtered_tb\n",
            "File \u001b[0;32m/tmp/__autograph_generated_filesq6kx051.py:15\u001b[0m, in \u001b[0;36mouter_factory.<locals>.inner_factory.<locals>.tf__train_function\u001b[0;34m(iterator)\u001b[0m\n\u001b[1;32m     13\u001b[0m \u001b[38;5;28;01mtry\u001b[39;00m:\n\u001b[1;32m     14\u001b[0m     do_return \u001b[38;5;241m=\u001b[39m \u001b[38;5;28;01mTrue\u001b[39;00m\n\u001b[0;32m---> 15\u001b[0m     retval_ \u001b[38;5;241m=\u001b[39m ag__\u001b[38;5;241m.\u001b[39mconverted_call(ag__\u001b[38;5;241m.\u001b[39mld(step_function), (ag__\u001b[38;5;241m.\u001b[39mld(\u001b[38;5;28mself\u001b[39m), ag__\u001b[38;5;241m.\u001b[39mld(iterator)), \u001b[38;5;28;01mNone\u001b[39;00m, fscope)\n\u001b[1;32m     16\u001b[0m \u001b[38;5;28;01mexcept\u001b[39;00m:\n\u001b[1;32m     17\u001b[0m     do_return \u001b[38;5;241m=\u001b[39m \u001b[38;5;28;01mFalse\u001b[39;00m\n",
            "\u001b[0;31mValueError\u001b[0m: in user code:\n\n    File \"/home/bouzelfi/.pyenv/versions/3.10.6/envs/lewagon/lib/python3.10/site-packages/keras/engine/training.py\", line 1160, in train_function  *\n        return step_function(self, iterator)\n    File \"/home/bouzelfi/.pyenv/versions/3.10.6/envs/lewagon/lib/python3.10/site-packages/keras/engine/training.py\", line 1146, in step_function  **\n        outputs = model.distribute_strategy.run(run_step, args=(data,))\n    File \"/home/bouzelfi/.pyenv/versions/3.10.6/envs/lewagon/lib/python3.10/site-packages/keras/engine/training.py\", line 1135, in run_step  **\n        outputs = model.train_step(data)\n    File \"/home/bouzelfi/.pyenv/versions/3.10.6/envs/lewagon/lib/python3.10/site-packages/keras/engine/training.py\", line 993, in train_step\n        y_pred = self(x, training=True)\n    File \"/home/bouzelfi/.pyenv/versions/3.10.6/envs/lewagon/lib/python3.10/site-packages/keras/utils/traceback_utils.py\", line 70, in error_handler\n        raise e.with_traceback(filtered_tb) from None\n    File \"/home/bouzelfi/.pyenv/versions/3.10.6/envs/lewagon/lib/python3.10/site-packages/keras/engine/input_spec.py\", line 277, in assert_input_compatibility\n        raise ValueError(\n\n    ValueError: Exception encountered when calling layer \"sequential_6\" \"                 f\"(type Sequential).\n    \n    Input 0 of layer \"dense_12\" is incompatible with the layer: expected axis -1 of input shape to have value 50, but received input with shape (None, 1)\n    \n    Call arguments received by layer \"sequential_6\" \"                 f\"(type Sequential):\n      • inputs=tf.Tensor(shape=(None, 1), dtype=string)\n      • training=True\n      • mask=None\n"
          ]
        }
      ],
      "source": [
        "# Entraîner le modèle\n",
        "batch_size = 64\n",
        "epochs = epoch_\n",
        "\n",
        "history = model.fit(\n",
        "    X_train, y_train,\n",
        "    epochs=epochs,\n",
        "    batch_size=batch_size,\n",
        "    validation_data=(X_test, y_test),\n",
        "    callbacks=[early_stopper],\n",
        "    verbose=1\n",
        ")\n",
        "\n",
        "# Prédire sur l'ensemble de test\n",
        "y_pred = model.predict(X_test)\n",
        "y_pred_classes = np.argmax(y_pred, axis=1)\n",
        "\n",
        "# Afficher le rapport de classification\n",
        "print(\"Rapport de classification pour le Dense avec Bert:\")\n",
        "print(classification_report(y_test, y_pred_classes, target_names=label_encoder.classes_))"
      ]
    },
    {
      "cell_type": "code",
      "execution_count": 26,
      "metadata": {
        "id": "9cHINFLYZKPc"
      },
      "outputs": [
        {
          "name": "stderr",
          "output_type": "stream",
          "text": [
            "2024-08-28 10:25:10.328341: W tensorflow/core/util/tensor_slice_reader.cc:96] Could not open /home/bouzelfi/code/Rendalae/harrisvstrump/data/checkpoints/2024-08-27-173851/Bert/cp-0013.weights.ckpt: DATA_LOSS: not an sstable (bad magic number): perhaps your file is in a different file format and you need to use a different restore operator?\n"
          ]
        },
        {
          "ename": "ValueError",
          "evalue": "Layer count mismatch when loading weights from file. Model expected 2 layers, found 0 saved layers.",
          "output_type": "error",
          "traceback": [
            "\u001b[0;31m---------------------------------------------------------------------------\u001b[0m",
            "\u001b[0;31mValueError\u001b[0m                                Traceback (most recent call last)",
            "Cell \u001b[0;32mIn [26], line 11\u001b[0m\n\u001b[1;32m      3\u001b[0m model_bert \u001b[38;5;241m=\u001b[39m Sequential([\n\u001b[1;32m      4\u001b[0m Dense(\u001b[38;5;241m256\u001b[39m, activation\u001b[38;5;241m=\u001b[39m\u001b[38;5;124m'\u001b[39m\u001b[38;5;124mrelu\u001b[39m\u001b[38;5;124m'\u001b[39m, input_shape\u001b[38;5;241m=\u001b[39minput_shape),\n\u001b[1;32m      5\u001b[0m Flatten(),\n\u001b[1;32m      6\u001b[0m Dense(\u001b[38;5;241m8\u001b[39m, activation\u001b[38;5;241m=\u001b[39m\u001b[38;5;124m'\u001b[39m\u001b[38;5;124msoftmax\u001b[39m\u001b[38;5;124m'\u001b[39m)\n\u001b[1;32m      7\u001b[0m ])\n\u001b[1;32m      9\u001b[0m model_bert\u001b[38;5;241m.\u001b[39mcompile(optimizer\u001b[38;5;241m=\u001b[39m\u001b[38;5;124m'\u001b[39m\u001b[38;5;124madam\u001b[39m\u001b[38;5;124m'\u001b[39m, loss\u001b[38;5;241m=\u001b[39m\u001b[38;5;124m'\u001b[39m\u001b[38;5;124msparse_categorical_crossentropy\u001b[39m\u001b[38;5;124m'\u001b[39m, metrics\u001b[38;5;241m=\u001b[39m[\u001b[38;5;124m'\u001b[39m\u001b[38;5;124maccuracy\u001b[39m\u001b[38;5;124m'\u001b[39m])\n\u001b[0;32m---> 11\u001b[0m \u001b[43mmodel_bert\u001b[49m\u001b[38;5;241;43m.\u001b[39;49m\u001b[43mload_weights\u001b[49m\u001b[43m(\u001b[49m\u001b[38;5;124;43m'\u001b[39;49m\u001b[38;5;124;43m/home/bouzelfi/code/Rendalae/harrisvstrump/data/checkpoints/2024-08-27-173851/Bert/cp-0013.weights.ckpt\u001b[39;49m\u001b[38;5;124;43m'\u001b[39;49m\u001b[43m)\u001b[49m\n",
            "File \u001b[0;32m~/.pyenv/versions/3.10.6/envs/lewagon/lib/python3.10/site-packages/keras/utils/traceback_utils.py:70\u001b[0m, in \u001b[0;36mfilter_traceback.<locals>.error_handler\u001b[0;34m(*args, **kwargs)\u001b[0m\n\u001b[1;32m     67\u001b[0m     filtered_tb \u001b[38;5;241m=\u001b[39m _process_traceback_frames(e\u001b[38;5;241m.\u001b[39m__traceback__)\n\u001b[1;32m     68\u001b[0m     \u001b[38;5;66;03m# To get the full stack trace, call:\u001b[39;00m\n\u001b[1;32m     69\u001b[0m     \u001b[38;5;66;03m# `tf.debugging.disable_traceback_filtering()`\u001b[39;00m\n\u001b[0;32m---> 70\u001b[0m     \u001b[38;5;28;01mraise\u001b[39;00m e\u001b[38;5;241m.\u001b[39mwith_traceback(filtered_tb) \u001b[38;5;28;01mfrom\u001b[39;00m \u001b[38;5;28mNone\u001b[39m\n\u001b[1;32m     71\u001b[0m \u001b[38;5;28;01mfinally\u001b[39;00m:\n\u001b[1;32m     72\u001b[0m     \u001b[38;5;28;01mdel\u001b[39;00m filtered_tb\n",
            "File \u001b[0;32m~/.pyenv/versions/3.10.6/envs/lewagon/lib/python3.10/site-packages/keras/saving/hdf5_format.py:817\u001b[0m, in \u001b[0;36mload_weights_from_hdf5_group\u001b[0;34m(f, model)\u001b[0m\n\u001b[1;32m    815\u001b[0m layer_names \u001b[38;5;241m=\u001b[39m filtered_layer_names\n\u001b[1;32m    816\u001b[0m \u001b[38;5;28;01mif\u001b[39;00m \u001b[38;5;28mlen\u001b[39m(layer_names) \u001b[38;5;241m!=\u001b[39m \u001b[38;5;28mlen\u001b[39m(filtered_layers):\n\u001b[0;32m--> 817\u001b[0m     \u001b[38;5;28;01mraise\u001b[39;00m \u001b[38;5;167;01mValueError\u001b[39;00m(\n\u001b[1;32m    818\u001b[0m         \u001b[38;5;124mf\u001b[39m\u001b[38;5;124m\"\u001b[39m\u001b[38;5;124mLayer count mismatch when loading weights from file. \u001b[39m\u001b[38;5;124m\"\u001b[39m\n\u001b[1;32m    819\u001b[0m         \u001b[38;5;124mf\u001b[39m\u001b[38;5;124m\"\u001b[39m\u001b[38;5;124mModel expected \u001b[39m\u001b[38;5;132;01m{\u001b[39;00m\u001b[38;5;28mlen\u001b[39m(filtered_layers)\u001b[38;5;132;01m}\u001b[39;00m\u001b[38;5;124m layers, found \u001b[39m\u001b[38;5;124m\"\u001b[39m\n\u001b[1;32m    820\u001b[0m         \u001b[38;5;124mf\u001b[39m\u001b[38;5;124m\"\u001b[39m\u001b[38;5;132;01m{\u001b[39;00m\u001b[38;5;28mlen\u001b[39m(layer_names)\u001b[38;5;132;01m}\u001b[39;00m\u001b[38;5;124m saved layers.\u001b[39m\u001b[38;5;124m\"\u001b[39m\n\u001b[1;32m    821\u001b[0m     )\n\u001b[1;32m    823\u001b[0m \u001b[38;5;66;03m# We batch weight value assignments in a single backend call\u001b[39;00m\n\u001b[1;32m    824\u001b[0m \u001b[38;5;66;03m# which provides a speedup in TensorFlow.\u001b[39;00m\n\u001b[1;32m    825\u001b[0m weight_value_tuples \u001b[38;5;241m=\u001b[39m []\n",
            "\u001b[0;31mValueError\u001b[0m: Layer count mismatch when loading weights from file. Model expected 2 layers, found 0 saved layers."
          ]
        }
      ],
      "source": [
        "# Create model\n",
        "input_shape = (768,)\n",
        "model_bert = Sequential([\n",
        "Dense(256, activation='relu', input_shape=input_shape),\n",
        "Flatten(),\n",
        "Dense(8, activation='softmax')\n",
        "])\n",
        "\n",
        "model_bert.compile(optimizer='adam', loss='sparse_categorical_crossentropy', metrics=['accuracy'])\n",
        "\n",
        "model_bert.load_weights('/home/bouzelfi/code/Rendalae/harrisvstrump/data/checkpoints/2024-08-27-173851/Bert/cp-0013.weights.ckpt')"
      ]
    },
    {
      "cell_type": "code",
      "execution_count": null,
      "metadata": {},
      "outputs": [],
      "source": [
        "mapping_political_people = {\n",
        "    \"Centre\": [\"Emmanuel Macron\", \"Bayrou\", \"Brigitte Macron\"],\n",
        "    \"Droite\": [\"Nicolas Sarkozy\", \"François Fillon\", \"Eric Ciotti\"],\n",
        "    \"Gauche\": [\"François Hollande\", \"Melenchon\", \"Marine Le Pen\"]\n",
        "}"
      ]
    }
  ],
  "metadata": {
    "accelerator": "GPU",
    "colab": {
      "gpuType": "T4",
      "provenance": []
    },
    "kernelspec": {
      "display_name": "Python 3",
      "name": "python3"
    },
    "language_info": {
      "codemirror_mode": {
        "name": "ipython",
        "version": 3
      },
      "file_extension": ".py",
      "mimetype": "text/x-python",
      "name": "python",
      "nbconvert_exporter": "python",
      "pygments_lexer": "ipython3",
      "version": "3.10.6"
    }
  },
  "nbformat": 4,
  "nbformat_minor": 0
}
